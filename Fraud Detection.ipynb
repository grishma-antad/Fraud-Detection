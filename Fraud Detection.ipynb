{
 "cells": [
  {
   "cell_type": "code",
   "execution_count": 52,
   "id": "a035a597",
   "metadata": {},
   "outputs": [],
   "source": [
    "import matplotlib.pyplot as plt\n",
    "import seaborn as sns\n",
    "from sklearn import linear_model\n",
    "import numpy as np\n",
    "import pandas as pd\n",
    "import warnings\n",
    "warnings.filterwarnings(\"ignore\")\n",
    "from sklearn.metrics import accuracy_score, f1_score,ConfusionMatrixDisplay,classification_report, roc_curve, auc, confusion_matrix"
   ]
  },
  {
   "cell_type": "code",
   "execution_count": 2,
   "id": "6f457053",
   "metadata": {},
   "outputs": [],
   "source": [
    "df = pd.read_csv('fraud.csv',chunksize=1900000)"
   ]
  },
  {
   "cell_type": "code",
   "execution_count": 3,
   "id": "529348a4",
   "metadata": {},
   "outputs": [
    {
     "name": "stdout",
     "output_type": "stream",
     "text": [
      "(1900000, 11)\n",
      "(1900000, 11)\n",
      "(1900000, 11)\n",
      "(662620, 11)\n"
     ]
    }
   ],
   "source": [
    "for chunks in df:\n",
    "    print(chunks.shape)"
   ]
  },
  {
   "cell_type": "code",
   "execution_count": 4,
   "id": "1e2b3377",
   "metadata": {},
   "outputs": [],
   "source": [
    "df = chunks"
   ]
  },
  {
   "cell_type": "code",
   "execution_count": 5,
   "id": "642b9e72",
   "metadata": {},
   "outputs": [
    {
     "data": {
      "text/html": [
       "<div>\n",
       "<style scoped>\n",
       "    .dataframe tbody tr th:only-of-type {\n",
       "        vertical-align: middle;\n",
       "    }\n",
       "\n",
       "    .dataframe tbody tr th {\n",
       "        vertical-align: top;\n",
       "    }\n",
       "\n",
       "    .dataframe thead th {\n",
       "        text-align: right;\n",
       "    }\n",
       "</style>\n",
       "<table border=\"1\" class=\"dataframe\">\n",
       "  <thead>\n",
       "    <tr style=\"text-align: right;\">\n",
       "      <th></th>\n",
       "      <th>step</th>\n",
       "      <th>type</th>\n",
       "      <th>amount</th>\n",
       "      <th>nameOrig</th>\n",
       "      <th>oldbalanceOrg</th>\n",
       "      <th>newbalanceOrig</th>\n",
       "      <th>nameDest</th>\n",
       "      <th>oldbalanceDest</th>\n",
       "      <th>newbalanceDest</th>\n",
       "      <th>isFraud</th>\n",
       "      <th>isFlaggedFraud</th>\n",
       "    </tr>\n",
       "  </thead>\n",
       "  <tbody>\n",
       "    <tr>\n",
       "      <th>5809379</th>\n",
       "      <td>401</td>\n",
       "      <td>TRANSFER</td>\n",
       "      <td>446977.30</td>\n",
       "      <td>C268452439</td>\n",
       "      <td>0.0</td>\n",
       "      <td>0.00</td>\n",
       "      <td>C1713079313</td>\n",
       "      <td>494658.28</td>\n",
       "      <td>941635.58</td>\n",
       "      <td>0</td>\n",
       "      <td>0</td>\n",
       "    </tr>\n",
       "    <tr>\n",
       "      <th>6303689</th>\n",
       "      <td>684</td>\n",
       "      <td>CASH_IN</td>\n",
       "      <td>429891.14</td>\n",
       "      <td>C295520321</td>\n",
       "      <td>51829.0</td>\n",
       "      <td>481720.14</td>\n",
       "      <td>C285882890</td>\n",
       "      <td>0.00</td>\n",
       "      <td>0.00</td>\n",
       "      <td>0</td>\n",
       "      <td>0</td>\n",
       "    </tr>\n",
       "    <tr>\n",
       "      <th>6353184</th>\n",
       "      <td>705</td>\n",
       "      <td>CASH_OUT</td>\n",
       "      <td>74558.72</td>\n",
       "      <td>C1135757712</td>\n",
       "      <td>50455.0</td>\n",
       "      <td>0.00</td>\n",
       "      <td>C751256487</td>\n",
       "      <td>1189865.49</td>\n",
       "      <td>1264424.22</td>\n",
       "      <td>0</td>\n",
       "      <td>0</td>\n",
       "    </tr>\n",
       "    <tr>\n",
       "      <th>6308346</th>\n",
       "      <td>686</td>\n",
       "      <td>CASH_OUT</td>\n",
       "      <td>29121.51</td>\n",
       "      <td>C1721959180</td>\n",
       "      <td>5097.0</td>\n",
       "      <td>0.00</td>\n",
       "      <td>C1024586843</td>\n",
       "      <td>0.00</td>\n",
       "      <td>29121.51</td>\n",
       "      <td>0</td>\n",
       "      <td>0</td>\n",
       "    </tr>\n",
       "    <tr>\n",
       "      <th>6306634</th>\n",
       "      <td>684</td>\n",
       "      <td>CASH_IN</td>\n",
       "      <td>14204.36</td>\n",
       "      <td>C123091505</td>\n",
       "      <td>4063.0</td>\n",
       "      <td>18267.36</td>\n",
       "      <td>C1408248750</td>\n",
       "      <td>2673202.81</td>\n",
       "      <td>2658998.45</td>\n",
       "      <td>0</td>\n",
       "      <td>0</td>\n",
       "    </tr>\n",
       "  </tbody>\n",
       "</table>\n",
       "</div>"
      ],
      "text/plain": [
       "         step      type     amount     nameOrig  oldbalanceOrg  \\\n",
       "5809379   401  TRANSFER  446977.30   C268452439            0.0   \n",
       "6303689   684   CASH_IN  429891.14   C295520321        51829.0   \n",
       "6353184   705  CASH_OUT   74558.72  C1135757712        50455.0   \n",
       "6308346   686  CASH_OUT   29121.51  C1721959180         5097.0   \n",
       "6306634   684   CASH_IN   14204.36   C123091505         4063.0   \n",
       "\n",
       "         newbalanceOrig     nameDest  oldbalanceDest  newbalanceDest  isFraud  \\\n",
       "5809379            0.00  C1713079313       494658.28       941635.58        0   \n",
       "6303689       481720.14   C285882890            0.00            0.00        0   \n",
       "6353184            0.00   C751256487      1189865.49      1264424.22        0   \n",
       "6308346            0.00  C1024586843            0.00        29121.51        0   \n",
       "6306634        18267.36  C1408248750      2673202.81      2658998.45        0   \n",
       "\n",
       "         isFlaggedFraud  \n",
       "5809379               0  \n",
       "6303689               0  \n",
       "6353184               0  \n",
       "6308346               0  \n",
       "6306634               0  "
      ]
     },
     "execution_count": 5,
     "metadata": {},
     "output_type": "execute_result"
    }
   ],
   "source": [
    "df.sample(5)"
   ]
  },
  {
   "cell_type": "code",
   "execution_count": 6,
   "id": "490743f6",
   "metadata": {},
   "outputs": [
    {
     "name": "stdout",
     "output_type": "stream",
     "text": [
      "<class 'pandas.core.frame.DataFrame'>\n",
      "RangeIndex: 662620 entries, 5700000 to 6362619\n",
      "Data columns (total 11 columns):\n",
      " #   Column          Non-Null Count   Dtype  \n",
      "---  ------          --------------   -----  \n",
      " 0   step            662620 non-null  int64  \n",
      " 1   type            662620 non-null  object \n",
      " 2   amount          662620 non-null  float64\n",
      " 3   nameOrig        662620 non-null  object \n",
      " 4   oldbalanceOrg   662620 non-null  float64\n",
      " 5   newbalanceOrig  662620 non-null  float64\n",
      " 6   nameDest        662620 non-null  object \n",
      " 7   oldbalanceDest  662620 non-null  float64\n",
      " 8   newbalanceDest  662620 non-null  float64\n",
      " 9   isFraud         662620 non-null  int64  \n",
      " 10  isFlaggedFraud  662620 non-null  int64  \n",
      "dtypes: float64(5), int64(3), object(3)\n",
      "memory usage: 55.6+ MB\n"
     ]
    }
   ],
   "source": [
    "df.info()"
   ]
  },
  {
   "cell_type": "code",
   "execution_count": 7,
   "id": "68a56224",
   "metadata": {},
   "outputs": [
    {
     "data": {
      "text/plain": [
       "False    662620\n",
       "Name: count, dtype: int64"
      ]
     },
     "execution_count": 7,
     "metadata": {},
     "output_type": "execute_result"
    }
   ],
   "source": [
    "df.duplicated().value_counts()"
   ]
  },
  {
   "cell_type": "code",
   "execution_count": 8,
   "id": "d088aff8",
   "metadata": {},
   "outputs": [
    {
     "data": {
      "text/html": [
       "<div>\n",
       "<style scoped>\n",
       "    .dataframe tbody tr th:only-of-type {\n",
       "        vertical-align: middle;\n",
       "    }\n",
       "\n",
       "    .dataframe tbody tr th {\n",
       "        vertical-align: top;\n",
       "    }\n",
       "\n",
       "    .dataframe thead th {\n",
       "        text-align: right;\n",
       "    }\n",
       "</style>\n",
       "<table border=\"1\" class=\"dataframe\">\n",
       "  <thead>\n",
       "    <tr style=\"text-align: right;\">\n",
       "      <th></th>\n",
       "      <th>step</th>\n",
       "      <th>amount</th>\n",
       "      <th>oldbalanceOrg</th>\n",
       "      <th>newbalanceOrig</th>\n",
       "      <th>oldbalanceDest</th>\n",
       "      <th>newbalanceDest</th>\n",
       "      <th>isFraud</th>\n",
       "      <th>isFlaggedFraud</th>\n",
       "    </tr>\n",
       "  </thead>\n",
       "  <tbody>\n",
       "    <tr>\n",
       "      <th>count</th>\n",
       "      <td>662620.000000</td>\n",
       "      <td>6.626200e+05</td>\n",
       "      <td>6.626200e+05</td>\n",
       "      <td>6.626200e+05</td>\n",
       "      <td>6.626200e+05</td>\n",
       "      <td>6.626200e+05</td>\n",
       "      <td>662620.000000</td>\n",
       "      <td>662620.000000</td>\n",
       "    </tr>\n",
       "    <tr>\n",
       "      <th>mean</th>\n",
       "      <td>496.740452</td>\n",
       "      <td>1.680283e+05</td>\n",
       "      <td>7.537256e+05</td>\n",
       "      <td>7.689377e+05</td>\n",
       "      <td>1.196791e+06</td>\n",
       "      <td>1.288611e+06</td>\n",
       "      <td>0.005717</td>\n",
       "      <td>0.000018</td>\n",
       "    </tr>\n",
       "    <tr>\n",
       "      <th>std</th>\n",
       "      <td>101.902434</td>\n",
       "      <td>4.109657e+05</td>\n",
       "      <td>2.552330e+06</td>\n",
       "      <td>2.578379e+06</td>\n",
       "      <td>4.109849e+06</td>\n",
       "      <td>4.175612e+06</td>\n",
       "      <td>0.075392</td>\n",
       "      <td>0.004256</td>\n",
       "    </tr>\n",
       "    <tr>\n",
       "      <th>min</th>\n",
       "      <td>398.000000</td>\n",
       "      <td>0.000000e+00</td>\n",
       "      <td>0.000000e+00</td>\n",
       "      <td>0.000000e+00</td>\n",
       "      <td>0.000000e+00</td>\n",
       "      <td>0.000000e+00</td>\n",
       "      <td>0.000000</td>\n",
       "      <td>0.000000</td>\n",
       "    </tr>\n",
       "    <tr>\n",
       "      <th>25%</th>\n",
       "      <td>403.000000</td>\n",
       "      <td>1.305841e+04</td>\n",
       "      <td>0.000000e+00</td>\n",
       "      <td>0.000000e+00</td>\n",
       "      <td>0.000000e+00</td>\n",
       "      <td>0.000000e+00</td>\n",
       "      <td>0.000000</td>\n",
       "      <td>0.000000</td>\n",
       "    </tr>\n",
       "    <tr>\n",
       "      <th>50%</th>\n",
       "      <td>474.000000</td>\n",
       "      <td>7.065667e+04</td>\n",
       "      <td>1.593800e+04</td>\n",
       "      <td>0.000000e+00</td>\n",
       "      <td>1.075769e+05</td>\n",
       "      <td>1.854002e+05</td>\n",
       "      <td>0.000000</td>\n",
       "      <td>0.000000</td>\n",
       "    </tr>\n",
       "    <tr>\n",
       "      <th>75%</th>\n",
       "      <td>573.000000</td>\n",
       "      <td>2.012567e+05</td>\n",
       "      <td>1.076580e+05</td>\n",
       "      <td>1.410075e+05</td>\n",
       "      <td>9.073872e+05</td>\n",
       "      <td>1.045937e+06</td>\n",
       "      <td>0.000000</td>\n",
       "      <td>0.000000</td>\n",
       "    </tr>\n",
       "    <tr>\n",
       "      <th>max</th>\n",
       "      <td>743.000000</td>\n",
       "      <td>1.541594e+07</td>\n",
       "      <td>5.958504e+07</td>\n",
       "      <td>4.958504e+07</td>\n",
       "      <td>3.560159e+08</td>\n",
       "      <td>3.561793e+08</td>\n",
       "      <td>1.000000</td>\n",
       "      <td>1.000000</td>\n",
       "    </tr>\n",
       "  </tbody>\n",
       "</table>\n",
       "</div>"
      ],
      "text/plain": [
       "                step        amount  oldbalanceOrg  newbalanceOrig  \\\n",
       "count  662620.000000  6.626200e+05   6.626200e+05    6.626200e+05   \n",
       "mean      496.740452  1.680283e+05   7.537256e+05    7.689377e+05   \n",
       "std       101.902434  4.109657e+05   2.552330e+06    2.578379e+06   \n",
       "min       398.000000  0.000000e+00   0.000000e+00    0.000000e+00   \n",
       "25%       403.000000  1.305841e+04   0.000000e+00    0.000000e+00   \n",
       "50%       474.000000  7.065667e+04   1.593800e+04    0.000000e+00   \n",
       "75%       573.000000  2.012567e+05   1.076580e+05    1.410075e+05   \n",
       "max       743.000000  1.541594e+07   5.958504e+07    4.958504e+07   \n",
       "\n",
       "       oldbalanceDest  newbalanceDest        isFraud  isFlaggedFraud  \n",
       "count    6.626200e+05    6.626200e+05  662620.000000   662620.000000  \n",
       "mean     1.196791e+06    1.288611e+06       0.005717        0.000018  \n",
       "std      4.109849e+06    4.175612e+06       0.075392        0.004256  \n",
       "min      0.000000e+00    0.000000e+00       0.000000        0.000000  \n",
       "25%      0.000000e+00    0.000000e+00       0.000000        0.000000  \n",
       "50%      1.075769e+05    1.854002e+05       0.000000        0.000000  \n",
       "75%      9.073872e+05    1.045937e+06       0.000000        0.000000  \n",
       "max      3.560159e+08    3.561793e+08       1.000000        1.000000  "
      ]
     },
     "execution_count": 8,
     "metadata": {},
     "output_type": "execute_result"
    }
   ],
   "source": [
    "df.describe()"
   ]
  },
  {
   "cell_type": "code",
   "execution_count": 9,
   "id": "e142dbe0",
   "metadata": {},
   "outputs": [
    {
     "data": {
      "text/html": [
       "<div>\n",
       "<style scoped>\n",
       "    .dataframe tbody tr th:only-of-type {\n",
       "        vertical-align: middle;\n",
       "    }\n",
       "\n",
       "    .dataframe tbody tr th {\n",
       "        vertical-align: top;\n",
       "    }\n",
       "\n",
       "    .dataframe thead th {\n",
       "        text-align: right;\n",
       "    }\n",
       "</style>\n",
       "<table border=\"1\" class=\"dataframe\">\n",
       "  <thead>\n",
       "    <tr style=\"text-align: right;\">\n",
       "      <th></th>\n",
       "      <th>type</th>\n",
       "      <th>nameOrig</th>\n",
       "      <th>nameDest</th>\n",
       "    </tr>\n",
       "  </thead>\n",
       "  <tbody>\n",
       "    <tr>\n",
       "      <th>count</th>\n",
       "      <td>662620</td>\n",
       "      <td>662620</td>\n",
       "      <td>662620</td>\n",
       "    </tr>\n",
       "    <tr>\n",
       "      <th>unique</th>\n",
       "      <td>5</td>\n",
       "      <td>662520</td>\n",
       "      <td>534705</td>\n",
       "    </tr>\n",
       "    <tr>\n",
       "      <th>top</th>\n",
       "      <td>PAYMENT</td>\n",
       "      <td>C515118379</td>\n",
       "      <td>C229021471</td>\n",
       "    </tr>\n",
       "    <tr>\n",
       "      <th>freq</th>\n",
       "      <td>229253</td>\n",
       "      <td>2</td>\n",
       "      <td>8</td>\n",
       "    </tr>\n",
       "  </tbody>\n",
       "</table>\n",
       "</div>"
      ],
      "text/plain": [
       "           type    nameOrig    nameDest\n",
       "count    662620      662620      662620\n",
       "unique        5      662520      534705\n",
       "top     PAYMENT  C515118379  C229021471\n",
       "freq     229253           2           8"
      ]
     },
     "execution_count": 9,
     "metadata": {},
     "output_type": "execute_result"
    }
   ],
   "source": [
    "df.describe(include=object)"
   ]
  },
  {
   "cell_type": "code",
   "execution_count": 10,
   "id": "f00c6847",
   "metadata": {},
   "outputs": [
    {
     "data": {
      "text/plain": [
       "step              0\n",
       "type              0\n",
       "amount            0\n",
       "nameOrig          0\n",
       "oldbalanceOrg     0\n",
       "newbalanceOrig    0\n",
       "nameDest          0\n",
       "oldbalanceDest    0\n",
       "newbalanceDest    0\n",
       "isFraud           0\n",
       "isFlaggedFraud    0\n",
       "dtype: int64"
      ]
     },
     "execution_count": 10,
     "metadata": {},
     "output_type": "execute_result"
    }
   ],
   "source": [
    "#checking null values in dataset\n",
    "df.isnull().sum()"
   ]
  },
  {
   "cell_type": "code",
   "execution_count": 11,
   "id": "049e3b3f",
   "metadata": {},
   "outputs": [
    {
     "data": {
      "text/plain": [
       "step                 346\n",
       "type                   5\n",
       "amount            645631\n",
       "nameOrig          662520\n",
       "oldbalanceOrg     266819\n",
       "newbalanceOrig    292341\n",
       "nameDest          534705\n",
       "oldbalanceDest    370358\n",
       "newbalanceDest    397176\n",
       "isFraud                2\n",
       "isFlaggedFraud         2\n",
       "dtype: int64"
      ]
     },
     "execution_count": 11,
     "metadata": {},
     "output_type": "execute_result"
    }
   ],
   "source": [
    "#checking unique values\n",
    "df.nunique()"
   ]
  },
  {
   "cell_type": "code",
   "execution_count": 12,
   "id": "e83aedd2",
   "metadata": {},
   "outputs": [
    {
     "name": "stdout",
     "output_type": "stream",
     "text": [
      "type\n",
      "PAYMENT     229253\n",
      "CASH_OUT    221626\n",
      "CASH_IN     147763\n",
      "TRANSFER     59171\n",
      "DEBIT         4807\n",
      "Name: count, dtype: int64\n"
     ]
    },
    {
     "data": {
      "image/png": "[encoded data removed]",
      "text/plain": [
       "<Figure size 1000x300 with 1 Axes>"
      ]
     },
     "metadata": {},
     "output_type": "display_data"
    }
   ],
   "source": [
    "sns.set(rc={'figure.figsize':(10,3)})\n",
    "df.type.value_counts().plot(kind='bar')\n",
    "print(df.type.value_counts())"
   ]
  },
  {
   "cell_type": "code",
   "execution_count": 13,
   "id": "cb78f006",
   "metadata": {},
   "outputs": [
    {
     "name": "stdout",
     "output_type": "stream",
     "text": [
      "Index(['step', 'type', 'amount', 'nameOrig', 'oldbalanceOrg', 'newbalanceOrig',\n",
      "       'nameDest', 'oldbalanceDest', 'newbalanceDest', 'isFraud',\n",
      "       'isFlaggedFraud'],\n",
      "      dtype='object')\n"
     ]
    },
    {
     "data": {
      "text/plain": [
       "step                int64\n",
       "type               object\n",
       "amount            float64\n",
       "nameOrig           object\n",
       "oldbalanceOrg     float64\n",
       "newbalanceOrig    float64\n",
       "nameDest           object\n",
       "oldbalanceDest    float64\n",
       "newbalanceDest    float64\n",
       "isFraud             int64\n",
       "isFlaggedFraud      int64\n",
       "dtype: object"
      ]
     },
     "execution_count": 13,
     "metadata": {},
     "output_type": "execute_result"
    }
   ],
   "source": [
    "print(df.columns)\n",
    "df.dtypes"
   ]
  },
  {
   "cell_type": "code",
   "execution_count": 14,
   "id": "0537a479",
   "metadata": {},
   "outputs": [
    {
     "data": {
      "text/plain": [
       "<Axes: >"
      ]
     },
     "execution_count": 14,
     "metadata": {},
     "output_type": "execute_result"
    },
    {
     "data": {
      "image/png": "[encoded data removed]",
      "text/plain": [
       "<Figure size 1200x500 with 1 Axes>"
      ]
     },
     "metadata": {},
     "output_type": "display_data"
    }
   ],
   "source": [
    "sns.set(rc={'figure.figsize':(12,5)})\n",
    "sns.boxplot(data = df)"
   ]
  },
  {
   "cell_type": "code",
   "execution_count": 15,
   "id": "94459954",
   "metadata": {},
   "outputs": [],
   "source": [
    "#converting categorical variable into numerical\n",
    "from sklearn.preprocessing import OrdinalEncoder\n",
    "OE = OrdinalEncoder()\n",
    "df['type']= OE.fit_transform(df[['type']])"
   ]
  },
  {
   "cell_type": "code",
   "execution_count": 16,
   "id": "2df938fd",
   "metadata": {},
   "outputs": [
    {
     "data": {
      "text/html": [
       "<div>\n",
       "<style scoped>\n",
       "    .dataframe tbody tr th:only-of-type {\n",
       "        vertical-align: middle;\n",
       "    }\n",
       "\n",
       "    .dataframe tbody tr th {\n",
       "        vertical-align: top;\n",
       "    }\n",
       "\n",
       "    .dataframe thead th {\n",
       "        text-align: right;\n",
       "    }\n",
       "</style>\n",
       "<table border=\"1\" class=\"dataframe\">\n",
       "  <thead>\n",
       "    <tr style=\"text-align: right;\">\n",
       "      <th></th>\n",
       "      <th>step</th>\n",
       "      <th>type</th>\n",
       "      <th>amount</th>\n",
       "      <th>oldbalanceOrg</th>\n",
       "      <th>newbalanceOrig</th>\n",
       "      <th>oldbalanceDest</th>\n",
       "      <th>newbalanceDest</th>\n",
       "      <th>isFraud</th>\n",
       "      <th>isFlaggedFraud</th>\n",
       "    </tr>\n",
       "  </thead>\n",
       "  <tbody>\n",
       "    <tr>\n",
       "      <th>5700000</th>\n",
       "      <td>398</td>\n",
       "      <td>3.0</td>\n",
       "      <td>11049.92</td>\n",
       "      <td>172026.62</td>\n",
       "      <td>160976.70</td>\n",
       "      <td>0.00</td>\n",
       "      <td>0.00</td>\n",
       "      <td>0</td>\n",
       "      <td>0</td>\n",
       "    </tr>\n",
       "    <tr>\n",
       "      <th>5700001</th>\n",
       "      <td>398</td>\n",
       "      <td>1.0</td>\n",
       "      <td>293878.48</td>\n",
       "      <td>99129.00</td>\n",
       "      <td>0.00</td>\n",
       "      <td>73233.24</td>\n",
       "      <td>367111.73</td>\n",
       "      <td>0</td>\n",
       "      <td>0</td>\n",
       "    </tr>\n",
       "    <tr>\n",
       "      <th>5700002</th>\n",
       "      <td>398</td>\n",
       "      <td>1.0</td>\n",
       "      <td>128578.22</td>\n",
       "      <td>31124.00</td>\n",
       "      <td>0.00</td>\n",
       "      <td>380293.23</td>\n",
       "      <td>508871.45</td>\n",
       "      <td>0</td>\n",
       "      <td>0</td>\n",
       "    </tr>\n",
       "    <tr>\n",
       "      <th>5700003</th>\n",
       "      <td>398</td>\n",
       "      <td>0.0</td>\n",
       "      <td>280791.81</td>\n",
       "      <td>17022.00</td>\n",
       "      <td>297813.81</td>\n",
       "      <td>2689280.82</td>\n",
       "      <td>2408489.01</td>\n",
       "      <td>0</td>\n",
       "      <td>0</td>\n",
       "    </tr>\n",
       "    <tr>\n",
       "      <th>5700004</th>\n",
       "      <td>398</td>\n",
       "      <td>1.0</td>\n",
       "      <td>37678.62</td>\n",
       "      <td>297813.81</td>\n",
       "      <td>260135.20</td>\n",
       "      <td>77720.16</td>\n",
       "      <td>115398.78</td>\n",
       "      <td>0</td>\n",
       "      <td>0</td>\n",
       "    </tr>\n",
       "    <tr>\n",
       "      <th>...</th>\n",
       "      <td>...</td>\n",
       "      <td>...</td>\n",
       "      <td>...</td>\n",
       "      <td>...</td>\n",
       "      <td>...</td>\n",
       "      <td>...</td>\n",
       "      <td>...</td>\n",
       "      <td>...</td>\n",
       "      <td>...</td>\n",
       "    </tr>\n",
       "    <tr>\n",
       "      <th>6362615</th>\n",
       "      <td>743</td>\n",
       "      <td>1.0</td>\n",
       "      <td>339682.13</td>\n",
       "      <td>339682.13</td>\n",
       "      <td>0.00</td>\n",
       "      <td>0.00</td>\n",
       "      <td>339682.13</td>\n",
       "      <td>1</td>\n",
       "      <td>0</td>\n",
       "    </tr>\n",
       "    <tr>\n",
       "      <th>6362616</th>\n",
       "      <td>743</td>\n",
       "      <td>4.0</td>\n",
       "      <td>6311409.28</td>\n",
       "      <td>6311409.28</td>\n",
       "      <td>0.00</td>\n",
       "      <td>0.00</td>\n",
       "      <td>0.00</td>\n",
       "      <td>1</td>\n",
       "      <td>0</td>\n",
       "    </tr>\n",
       "    <tr>\n",
       "      <th>6362617</th>\n",
       "      <td>743</td>\n",
       "      <td>1.0</td>\n",
       "      <td>6311409.28</td>\n",
       "      <td>6311409.28</td>\n",
       "      <td>0.00</td>\n",
       "      <td>68488.84</td>\n",
       "      <td>6379898.11</td>\n",
       "      <td>1</td>\n",
       "      <td>0</td>\n",
       "    </tr>\n",
       "    <tr>\n",
       "      <th>6362618</th>\n",
       "      <td>743</td>\n",
       "      <td>4.0</td>\n",
       "      <td>850002.52</td>\n",
       "      <td>850002.52</td>\n",
       "      <td>0.00</td>\n",
       "      <td>0.00</td>\n",
       "      <td>0.00</td>\n",
       "      <td>1</td>\n",
       "      <td>0</td>\n",
       "    </tr>\n",
       "    <tr>\n",
       "      <th>6362619</th>\n",
       "      <td>743</td>\n",
       "      <td>1.0</td>\n",
       "      <td>850002.52</td>\n",
       "      <td>850002.52</td>\n",
       "      <td>0.00</td>\n",
       "      <td>6510099.11</td>\n",
       "      <td>7360101.63</td>\n",
       "      <td>1</td>\n",
       "      <td>0</td>\n",
       "    </tr>\n",
       "  </tbody>\n",
       "</table>\n",
       "<p>662620 rows × 9 columns</p>\n",
       "</div>"
      ],
      "text/plain": [
       "         step  type      amount  oldbalanceOrg  newbalanceOrig  \\\n",
       "5700000   398   3.0    11049.92      172026.62       160976.70   \n",
       "5700001   398   1.0   293878.48       99129.00            0.00   \n",
       "5700002   398   1.0   128578.22       31124.00            0.00   \n",
       "5700003   398   0.0   280791.81       17022.00       297813.81   \n",
       "5700004   398   1.0    37678.62      297813.81       260135.20   \n",
       "...       ...   ...         ...            ...             ...   \n",
       "6362615   743   1.0   339682.13      339682.13            0.00   \n",
       "6362616   743   4.0  6311409.28     6311409.28            0.00   \n",
       "6362617   743   1.0  6311409.28     6311409.28            0.00   \n",
       "6362618   743   4.0   850002.52      850002.52            0.00   \n",
       "6362619   743   1.0   850002.52      850002.52            0.00   \n",
       "\n",
       "         oldbalanceDest  newbalanceDest  isFraud  isFlaggedFraud  \n",
       "5700000            0.00            0.00        0               0  \n",
       "5700001        73233.24       367111.73        0               0  \n",
       "5700002       380293.23       508871.45        0               0  \n",
       "5700003      2689280.82      2408489.01        0               0  \n",
       "5700004        77720.16       115398.78        0               0  \n",
       "...                 ...             ...      ...             ...  \n",
       "6362615            0.00       339682.13        1               0  \n",
       "6362616            0.00            0.00        1               0  \n",
       "6362617        68488.84      6379898.11        1               0  \n",
       "6362618            0.00            0.00        1               0  \n",
       "6362619      6510099.11      7360101.63        1               0  \n",
       "\n",
       "[662620 rows x 9 columns]"
      ]
     },
     "execution_count": 16,
     "metadata": {},
     "output_type": "execute_result"
    }
   ],
   "source": [
    "df = df.drop(['nameOrig','nameDest'],axis='columns')\n",
    "df"
   ]
  },
  {
   "cell_type": "code",
   "execution_count": 17,
   "id": "f628783a",
   "metadata": {},
   "outputs": [],
   "source": [
    "a = df.drop(['isFraud'], axis='columns')\n",
    "b = df['isFraud']"
   ]
  },
  {
   "cell_type": "code",
   "execution_count": 18,
   "id": "57506578",
   "metadata": {},
   "outputs": [],
   "source": [
    "from sklearn.preprocessing import StandardScaler\n",
    "SS = StandardScaler()\n",
    "a = SS.fit_transform(a)"
   ]
  },
  {
   "cell_type": "code",
   "execution_count": 19,
   "id": "cd8883c5",
   "metadata": {},
   "outputs": [],
   "source": [
    "# Split the data into X and y\n",
    "X = a  # Exclude the 'isFraud' column from input features\n",
    "y = b  # Target variable"
   ]
  },
  {
   "cell_type": "code",
   "execution_count": 20,
   "id": "6ed6565d",
   "metadata": {},
   "outputs": [
    {
     "name": "stdout",
     "output_type": "stream",
     "text": [
      "(530096, 8)\n",
      "(132524, 8)\n",
      "(530096,)\n",
      "(132524,)\n"
     ]
    }
   ],
   "source": [
    "from sklearn.model_selection import train_test_split\n",
    "X_train, X_test, y_train, y_test = train_test_split(X, y, test_size=0.2, random_state = 5)\n",
    "print(X_train.shape)\n",
    "print(X_test.shape)\n",
    "print(y_train.shape)\n",
    "print(y_test.shape)"
   ]
  },
  {
   "cell_type": "code",
   "execution_count": 21,
   "id": "7baa7481",
   "metadata": {},
   "outputs": [],
   "source": [
    "from sklearn.svm import SVC\n",
    "from sklearn.tree import DecisionTreeClassifier\n",
    "from sklearn.neighbors import KNeighborsClassifier\n",
    "from sklearn.ensemble import RandomForestClassifier\n",
    "from sklearn.ensemble import GradientBoostingClassifier\n",
    "from sklearn.linear_model import LogisticRegression"
   ]
  },
  {
   "cell_type": "code",
   "execution_count": 22,
   "id": "f743893b",
   "metadata": {},
   "outputs": [
    {
     "name": "stdout",
     "output_type": "stream",
     "text": [
      "0.9982965349672512\n",
      "0.9982644653043977\n"
     ]
    }
   ],
   "source": [
    "dtc = DecisionTreeClassifier(max_depth = 5, random_state = 1)\n",
    "dtc.fit(X_train, y_train)\n",
    "train_score = dtc.score(X_train, y_train)\n",
    "test_score = dtc.score(X_test, y_test)\n",
    "print(train_score)\n",
    "print(test_score)"
   ]
  },
  {
   "cell_type": "code",
   "execution_count": 23,
   "id": "22aacc8c",
   "metadata": {},
   "outputs": [
    {
     "name": "stdout",
     "output_type": "stream",
     "text": [
      "0.9968326491805258\n",
      "0.9968307627297697\n"
     ]
    }
   ],
   "source": [
    "LR = LogisticRegression()\n",
    "LR.fit(X_train,y_train)\n",
    "print(LR.score(X_train, y_train))\n",
    "print(LR.score(X_test, y_test))"
   ]
  },
  {
   "cell_type": "code",
   "execution_count": 24,
   "id": "41194fa1",
   "metadata": {},
   "outputs": [],
   "source": [
    "from sklearn.model_selection import GridSearchCV, KFold\n",
    "from sklearn.metrics import accuracy_score"
   ]
  },
  {
   "cell_type": "code",
   "execution_count": 25,
   "id": "342326eb",
   "metadata": {},
   "outputs": [],
   "source": [
    "# Define the parameter grid to search over\n",
    "param_grid = {\n",
    "    'n_estimators': [10, 20, 30],\n",
    "    'max_depth': [5, 10, 15],\n",
    "    'min_samples_split': [2, 5, 10]\n",
    "}\n"
   ]
  },
  {
   "cell_type": "code",
   "execution_count": 26,
   "id": "880cef98",
   "metadata": {},
   "outputs": [],
   "source": [
    "# Create the model\n",
    "model = RandomForestClassifier()"
   ]
  },
  {
   "cell_type": "code",
   "execution_count": 27,
   "id": "04fa2606",
   "metadata": {},
   "outputs": [
    {
     "data": {
      "text/html": [
       "<style>#sk-container-id-1 {\n",
       "  /* Definition of color scheme common for light and dark mode */\n",
       "  --sklearn-color-text: black;\n",
       "  --sklearn-color-line: gray;\n",
       "  /* Definition of color scheme for unfitted estimators */\n",
       "  --sklearn-color-unfitted-level-0: #fff5e6;\n",
       "  --sklearn-color-unfitted-level-1: #f6e4d2;\n",
       "  --sklearn-color-unfitted-level-2: #ffe0b3;\n",
       "  --sklearn-color-unfitted-level-3: chocolate;\n",
       "  /* Definition of color scheme for fitted estimators */\n",
       "  --sklearn-color-fitted-level-0: #f0f8ff;\n",
       "  --sklearn-color-fitted-level-1: #d4ebff;\n",
       "  --sklearn-color-fitted-level-2: #b3dbfd;\n",
       "  --sklearn-color-fitted-level-3: cornflowerblue;\n",
       "\n",
       "  /* Specific color for light theme */\n",
       "  --sklearn-color-text-on-default-background: var(--sg-text-color, var(--theme-code-foreground, var(--jp-content-font-color1, black)));\n",
       "  --sklearn-color-background: var(--sg-background-color, var(--theme-background, var(--jp-layout-color0, white)));\n",
       "  --sklearn-color-border-box: var(--sg-text-color, var(--theme-code-foreground, var(--jp-content-font-color1, black)));\n",
       "  --sklearn-color-icon: #696969;\n",
       "\n",
       "  @media (prefers-color-scheme: dark) {\n",
       "    /* Redefinition of color scheme for dark theme */\n",
       "    --sklearn-color-text-on-default-background: var(--sg-text-color, var(--theme-code-foreground, var(--jp-content-font-color1, white)));\n",
       "    --sklearn-color-background: var(--sg-background-color, var(--theme-background, var(--jp-layout-color0, #111)));\n",
       "    --sklearn-color-border-box: var(--sg-text-color, var(--theme-code-foreground, var(--jp-content-font-color1, white)));\n",
       "    --sklearn-color-icon: #878787;\n",
       "  }\n",
       "}\n",
       "\n",
       "#sk-container-id-1 {\n",
       "  color: var(--sklearn-color-text);\n",
       "}\n",
       "\n",
       "#sk-container-id-1 pre {\n",
       "  padding: 0;\n",
       "}\n",
       "\n",
       "#sk-container-id-1 input.sk-hidden--visually {\n",
       "  border: 0;\n",
       "  clip: rect(1px 1px 1px 1px);\n",
       "  clip: rect(1px, 1px, 1px, 1px);\n",
       "  height: 1px;\n",
       "  margin: -1px;\n",
       "  overflow: hidden;\n",
       "  padding: 0;\n",
       "  position: absolute;\n",
       "  width: 1px;\n",
       "}\n",
       "\n",
       "#sk-container-id-1 div.sk-dashed-wrapped {\n",
       "  border: 1px dashed var(--sklearn-color-line);\n",
       "  margin: 0 0.4em 0.5em 0.4em;\n",
       "  box-sizing: border-box;\n",
       "  padding-bottom: 0.4em;\n",
       "  background-color: var(--sklearn-color-background);\n",
       "}\n",
       "\n",
       "#sk-container-id-1 div.sk-container {\n",
       "  /* jupyter's `normalize.less` sets `[hidden] { display: none; }`\n",
       "     but bootstrap.min.css set `[hidden] { display: none !important; }`\n",
       "     so we also need the `!important` here to be able to override the\n",
       "     default hidden behavior on the sphinx rendered scikit-learn.org.\n",
       "     See: https://github.com/scikit-learn/scikit-learn/issues/21755 */\n",
       "  display: inline-block !important;\n",
       "  position: relative;\n",
       "}\n",
       "\n",
       "#sk-container-id-1 div.sk-text-repr-fallback {\n",
       "  display: none;\n",
       "}\n",
       "\n",
       "div.sk-parallel-item,\n",
       "div.sk-serial,\n",
       "div.sk-item {\n",
       "  /* draw centered vertical line to link estimators */\n",
       "  background-image: linear-gradient(var(--sklearn-color-text-on-default-background), var(--sklearn-color-text-on-default-background));\n",
       "  background-size: 2px 100%;\n",
       "  background-repeat: no-repeat;\n",
       "  background-position: center center;\n",
       "}\n",
       "\n",
       "/* Parallel-specific style estimator block */\n",
       "\n",
       "#sk-container-id-1 div.sk-parallel-item::after {\n",
       "  content: \"\";\n",
       "  width: 100%;\n",
       "  border-bottom: 2px solid var(--sklearn-color-text-on-default-background);\n",
       "  flex-grow: 1;\n",
       "}\n",
       "\n",
       "#sk-container-id-1 div.sk-parallel {\n",
       "  display: flex;\n",
       "  align-items: stretch;\n",
       "  justify-content: center;\n",
       "  background-color: var(--sklearn-color-background);\n",
       "  position: relative;\n",
       "}\n",
       "\n",
       "#sk-container-id-1 div.sk-parallel-item {\n",
       "  display: flex;\n",
       "  flex-direction: column;\n",
       "}\n",
       "\n",
       "#sk-container-id-1 div.sk-parallel-item:first-child::after {\n",
       "  align-self: flex-end;\n",
       "  width: 50%;\n",
       "}\n",
       "\n",
       "#sk-container-id-1 div.sk-parallel-item:last-child::after {\n",
       "  align-self: flex-start;\n",
       "  width: 50%;\n",
       "}\n",
       "\n",
       "#sk-container-id-1 div.sk-parallel-item:only-child::after {\n",
       "  width: 0;\n",
       "}\n",
       "\n",
       "/* Serial-specific style estimator block */\n",
       "\n",
       "#sk-container-id-1 div.sk-serial {\n",
       "  display: flex;\n",
       "  flex-direction: column;\n",
       "  align-items: center;\n",
       "  background-color: var(--sklearn-color-background);\n",
       "  padding-right: 1em;\n",
       "  padding-left: 1em;\n",
       "}\n",
       "\n",
       "\n",
       "/* Toggleable style: style used for estimator/Pipeline/ColumnTransformer box that is\n",
       "clickable and can be expanded/collapsed.\n",
       "- Pipeline and ColumnTransformer use this feature and define the default style\n",
       "- Estimators will overwrite some part of the style using the `sk-estimator` class\n",
       "*/\n",
       "\n",
       "/* Pipeline and ColumnTransformer style (default) */\n",
       "\n",
       "#sk-container-id-1 div.sk-toggleable {\n",
       "  /* Default theme specific background. It is overwritten whether we have a\n",
       "  specific estimator or a Pipeline/ColumnTransformer */\n",
       "  background-color: var(--sklearn-color-background);\n",
       "}\n",
       "\n",
       "/* Toggleable label */\n",
       "#sk-container-id-1 label.sk-toggleable__label {\n",
       "  cursor: pointer;\n",
       "  display: block;\n",
       "  width: 100%;\n",
       "  margin-bottom: 0;\n",
       "  padding: 0.5em;\n",
       "  box-sizing: border-box;\n",
       "  text-align: center;\n",
       "}\n",
       "\n",
       "#sk-container-id-1 label.sk-toggleable__label-arrow:before {\n",
       "  /* Arrow on the left of the label */\n",
       "  content: \"▸\";\n",
       "  float: left;\n",
       "  margin-right: 0.25em;\n",
       "  color: var(--sklearn-color-icon);\n",
       "}\n",
       "\n",
       "#sk-container-id-1 label.sk-toggleable__label-arrow:hover:before {\n",
       "  color: var(--sklearn-color-text);\n",
       "}\n",
       "\n",
       "/* Toggleable content - dropdown */\n",
       "\n",
       "#sk-container-id-1 div.sk-toggleable__content {\n",
       "  max-height: 0;\n",
       "  max-width: 0;\n",
       "  overflow: hidden;\n",
       "  text-align: left;\n",
       "  /* unfitted */\n",
       "  background-color: var(--sklearn-color-unfitted-level-0);\n",
       "}\n",
       "\n",
       "#sk-container-id-1 div.sk-toggleable__content.fitted {\n",
       "  /* fitted */\n",
       "  background-color: var(--sklearn-color-fitted-level-0);\n",
       "}\n",
       "\n",
       "#sk-container-id-1 div.sk-toggleable__content pre {\n",
       "  margin: 0.2em;\n",
       "  border-radius: 0.25em;\n",
       "  color: var(--sklearn-color-text);\n",
       "  /* unfitted */\n",
       "  background-color: var(--sklearn-color-unfitted-level-0);\n",
       "}\n",
       "\n",
       "#sk-container-id-1 div.sk-toggleable__content.fitted pre {\n",
       "  /* unfitted */\n",
       "  background-color: var(--sklearn-color-fitted-level-0);\n",
       "}\n",
       "\n",
       "#sk-container-id-1 input.sk-toggleable__control:checked~div.sk-toggleable__content {\n",
       "  /* Expand drop-down */\n",
       "  max-height: 200px;\n",
       "  max-width: 100%;\n",
       "  overflow: auto;\n",
       "}\n",
       "\n",
       "#sk-container-id-1 input.sk-toggleable__control:checked~label.sk-toggleable__label-arrow:before {\n",
       "  content: \"▾\";\n",
       "}\n",
       "\n",
       "/* Pipeline/ColumnTransformer-specific style */\n",
       "\n",
       "#sk-container-id-1 div.sk-label input.sk-toggleable__control:checked~label.sk-toggleable__label {\n",
       "  color: var(--sklearn-color-text);\n",
       "  background-color: var(--sklearn-color-unfitted-level-2);\n",
       "}\n",
       "\n",
       "#sk-container-id-1 div.sk-label.fitted input.sk-toggleable__control:checked~label.sk-toggleable__label {\n",
       "  background-color: var(--sklearn-color-fitted-level-2);\n",
       "}\n",
       "\n",
       "/* Estimator-specific style */\n",
       "\n",
       "/* Colorize estimator box */\n",
       "#sk-container-id-1 div.sk-estimator input.sk-toggleable__control:checked~label.sk-toggleable__label {\n",
       "  /* unfitted */\n",
       "  background-color: var(--sklearn-color-unfitted-level-2);\n",
       "}\n",
       "\n",
       "#sk-container-id-1 div.sk-estimator.fitted input.sk-toggleable__control:checked~label.sk-toggleable__label {\n",
       "  /* fitted */\n",
       "  background-color: var(--sklearn-color-fitted-level-2);\n",
       "}\n",
       "\n",
       "#sk-container-id-1 div.sk-label label.sk-toggleable__label,\n",
       "#sk-container-id-1 div.sk-label label {\n",
       "  /* The background is the default theme color */\n",
       "  color: var(--sklearn-color-text-on-default-background);\n",
       "}\n",
       "\n",
       "/* On hover, darken the color of the background */\n",
       "#sk-container-id-1 div.sk-label:hover label.sk-toggleable__label {\n",
       "  color: var(--sklearn-color-text);\n",
       "  background-color: var(--sklearn-color-unfitted-level-2);\n",
       "}\n",
       "\n",
       "/* Label box, darken color on hover, fitted */\n",
       "#sk-container-id-1 div.sk-label.fitted:hover label.sk-toggleable__label.fitted {\n",
       "  color: var(--sklearn-color-text);\n",
       "  background-color: var(--sklearn-color-fitted-level-2);\n",
       "}\n",
       "\n",
       "/* Estimator label */\n",
       "\n",
       "#sk-container-id-1 div.sk-label label {\n",
       "  font-family: monospace;\n",
       "  font-weight: bold;\n",
       "  display: inline-block;\n",
       "  line-height: 1.2em;\n",
       "}\n",
       "\n",
       "#sk-container-id-1 div.sk-label-container {\n",
       "  text-align: center;\n",
       "}\n",
       "\n",
       "/* Estimator-specific */\n",
       "#sk-container-id-1 div.sk-estimator {\n",
       "  font-family: monospace;\n",
       "  border: 1px dotted var(--sklearn-color-border-box);\n",
       "  border-radius: 0.25em;\n",
       "  box-sizing: border-box;\n",
       "  margin-bottom: 0.5em;\n",
       "  /* unfitted */\n",
       "  background-color: var(--sklearn-color-unfitted-level-0);\n",
       "}\n",
       "\n",
       "#sk-container-id-1 div.sk-estimator.fitted {\n",
       "  /* fitted */\n",
       "  background-color: var(--sklearn-color-fitted-level-0);\n",
       "}\n",
       "\n",
       "/* on hover */\n",
       "#sk-container-id-1 div.sk-estimator:hover {\n",
       "  /* unfitted */\n",
       "  background-color: var(--sklearn-color-unfitted-level-2);\n",
       "}\n",
       "\n",
       "#sk-container-id-1 div.sk-estimator.fitted:hover {\n",
       "  /* fitted */\n",
       "  background-color: var(--sklearn-color-fitted-level-2);\n",
       "}\n",
       "\n",
       "/* Specification for estimator info (e.g. \"i\" and \"?\") */\n",
       "\n",
       "/* Common style for \"i\" and \"?\" */\n",
       "\n",
       ".sk-estimator-doc-link,\n",
       "a:link.sk-estimator-doc-link,\n",
       "a:visited.sk-estimator-doc-link {\n",
       "  float: right;\n",
       "  font-size: smaller;\n",
       "  line-height: 1em;\n",
       "  font-family: monospace;\n",
       "  background-color: var(--sklearn-color-background);\n",
       "  border-radius: 1em;\n",
       "  height: 1em;\n",
       "  width: 1em;\n",
       "  text-decoration: none !important;\n",
       "  margin-left: 1ex;\n",
       "  /* unfitted */\n",
       "  border: var(--sklearn-color-unfitted-level-1) 1pt solid;\n",
       "  color: var(--sklearn-color-unfitted-level-1);\n",
       "}\n",
       "\n",
       ".sk-estimator-doc-link.fitted,\n",
       "a:link.sk-estimator-doc-link.fitted,\n",
       "a:visited.sk-estimator-doc-link.fitted {\n",
       "  /* fitted */\n",
       "  border: var(--sklearn-color-fitted-level-1) 1pt solid;\n",
       "  color: var(--sklearn-color-fitted-level-1);\n",
       "}\n",
       "\n",
       "/* On hover */\n",
       "div.sk-estimator:hover .sk-estimator-doc-link:hover,\n",
       ".sk-estimator-doc-link:hover,\n",
       "div.sk-label-container:hover .sk-estimator-doc-link:hover,\n",
       ".sk-estimator-doc-link:hover {\n",
       "  /* unfitted */\n",
       "  background-color: var(--sklearn-color-unfitted-level-3);\n",
       "  color: var(--sklearn-color-background);\n",
       "  text-decoration: none;\n",
       "}\n",
       "\n",
       "div.sk-estimator.fitted:hover .sk-estimator-doc-link.fitted:hover,\n",
       ".sk-estimator-doc-link.fitted:hover,\n",
       "div.sk-label-container:hover .sk-estimator-doc-link.fitted:hover,\n",
       ".sk-estimator-doc-link.fitted:hover {\n",
       "  /* fitted */\n",
       "  background-color: var(--sklearn-color-fitted-level-3);\n",
       "  color: var(--sklearn-color-background);\n",
       "  text-decoration: none;\n",
       "}\n",
       "\n",
       "/* Span, style for the box shown on hovering the info icon */\n",
       ".sk-estimator-doc-link span {\n",
       "  display: none;\n",
       "  z-index: 9999;\n",
       "  position: relative;\n",
       "  font-weight: normal;\n",
       "  right: .2ex;\n",
       "  padding: .5ex;\n",
       "  margin: .5ex;\n",
       "  width: min-content;\n",
       "  min-width: 20ex;\n",
       "  max-width: 50ex;\n",
       "  color: var(--sklearn-color-text);\n",
       "  box-shadow: 2pt 2pt 4pt #999;\n",
       "  /* unfitted */\n",
       "  background: var(--sklearn-color-unfitted-level-0);\n",
       "  border: .5pt solid var(--sklearn-color-unfitted-level-3);\n",
       "}\n",
       "\n",
       ".sk-estimator-doc-link.fitted span {\n",
       "  /* fitted */\n",
       "  background: var(--sklearn-color-fitted-level-0);\n",
       "  border: var(--sklearn-color-fitted-level-3);\n",
       "}\n",
       "\n",
       ".sk-estimator-doc-link:hover span {\n",
       "  display: block;\n",
       "}\n",
       "\n",
       "/* \"?\"-specific style due to the `<a>` HTML tag */\n",
       "\n",
       "#sk-container-id-1 a.estimator_doc_link {\n",
       "  float: right;\n",
       "  font-size: 1rem;\n",
       "  line-height: 1em;\n",
       "  font-family: monospace;\n",
       "  background-color: var(--sklearn-color-background);\n",
       "  border-radius: 1rem;\n",
       "  height: 1rem;\n",
       "  width: 1rem;\n",
       "  text-decoration: none;\n",
       "  /* unfitted */\n",
       "  color: var(--sklearn-color-unfitted-level-1);\n",
       "  border: var(--sklearn-color-unfitted-level-1) 1pt solid;\n",
       "}\n",
       "\n",
       "#sk-container-id-1 a.estimator_doc_link.fitted {\n",
       "  /* fitted */\n",
       "  border: var(--sklearn-color-fitted-level-1) 1pt solid;\n",
       "  color: var(--sklearn-color-fitted-level-1);\n",
       "}\n",
       "\n",
       "/* On hover */\n",
       "#sk-container-id-1 a.estimator_doc_link:hover {\n",
       "  /* unfitted */\n",
       "  background-color: var(--sklearn-color-unfitted-level-3);\n",
       "  color: var(--sklearn-color-background);\n",
       "  text-decoration: none;\n",
       "}\n",
       "\n",
       "#sk-container-id-1 a.estimator_doc_link.fitted:hover {\n",
       "  /* fitted */\n",
       "  background-color: var(--sklearn-color-fitted-level-3);\n",
       "}\n",
       "</style><div id=\"sk-container-id-1\" class=\"sk-top-container\"><div class=\"sk-text-repr-fallback\"><pre>GridSearchCV(cv=5, estimator=RandomForestClassifier(),\n",
       "             param_grid={&#x27;max_depth&#x27;: [5, 10, 15],\n",
       "                         &#x27;min_samples_split&#x27;: [2, 5, 10],\n",
       "                         &#x27;n_estimators&#x27;: [10, 20, 30]},\n",
       "             scoring=&#x27;accuracy&#x27;)</pre><b>In a Jupyter environment, please rerun this cell to show the HTML representation or trust the notebook. <br />On GitHub, the HTML representation is unable to render, please try loading this page with nbviewer.org.</b></div><div class=\"sk-container\" hidden><div class=\"sk-item sk-dashed-wrapped\"><div class=\"sk-label-container\"><div class=\"sk-label fitted sk-toggleable\"><input class=\"sk-toggleable__control sk-hidden--visually\" id=\"sk-estimator-id-1\" type=\"checkbox\" ><label for=\"sk-estimator-id-1\" class=\"sk-toggleable__label fitted sk-toggleable__label-arrow fitted\">&nbsp;&nbsp;GridSearchCV<a class=\"sk-estimator-doc-link fitted\" rel=\"noreferrer\" target=\"_blank\" href=\"https://scikit-learn.org/1.4/modules/generated/sklearn.model_selection.GridSearchCV.html\">?<span>Documentation for GridSearchCV</span></a><span class=\"sk-estimator-doc-link fitted\">i<span>Fitted</span></span></label><div class=\"sk-toggleable__content fitted\"><pre>GridSearchCV(cv=5, estimator=RandomForestClassifier(),\n",
       "             param_grid={&#x27;max_depth&#x27;: [5, 10, 15],\n",
       "                         &#x27;min_samples_split&#x27;: [2, 5, 10],\n",
       "                         &#x27;n_estimators&#x27;: [10, 20, 30]},\n",
       "             scoring=&#x27;accuracy&#x27;)</pre></div> </div></div><div class=\"sk-parallel\"><div class=\"sk-parallel-item\"><div class=\"sk-item\"><div class=\"sk-label-container\"><div class=\"sk-label fitted sk-toggleable\"><input class=\"sk-toggleable__control sk-hidden--visually\" id=\"sk-estimator-id-2\" type=\"checkbox\" ><label for=\"sk-estimator-id-2\" class=\"sk-toggleable__label fitted sk-toggleable__label-arrow fitted\">estimator: RandomForestClassifier</label><div class=\"sk-toggleable__content fitted\"><pre>RandomForestClassifier()</pre></div> </div></div><div class=\"sk-serial\"><div class=\"sk-item\"><div class=\"sk-estimator fitted sk-toggleable\"><input class=\"sk-toggleable__control sk-hidden--visually\" id=\"sk-estimator-id-3\" type=\"checkbox\" ><label for=\"sk-estimator-id-3\" class=\"sk-toggleable__label fitted sk-toggleable__label-arrow fitted\">&nbsp;RandomForestClassifier<a class=\"sk-estimator-doc-link fitted\" rel=\"noreferrer\" target=\"_blank\" href=\"https://scikit-learn.org/1.4/modules/generated/sklearn.ensemble.RandomForestClassifier.html\">?<span>Documentation for RandomForestClassifier</span></a></label><div class=\"sk-toggleable__content fitted\"><pre>RandomForestClassifier()</pre></div> </div></div></div></div></div></div></div></div></div>"
      ],
      "text/plain": [
       "GridSearchCV(cv=5, estimator=RandomForestClassifier(),\n",
       "             param_grid={'max_depth': [5, 10, 15],\n",
       "                         'min_samples_split': [2, 5, 10],\n",
       "                         'n_estimators': [10, 20, 30]},\n",
       "             scoring='accuracy')"
      ]
     },
     "execution_count": 27,
     "metadata": {},
     "output_type": "execute_result"
    }
   ],
   "source": [
    "# Perform grid search with cross-validation\n",
    "grid_search = GridSearchCV(model, param_grid, cv=5, scoring='accuracy')\n",
    "grid_search.fit(X_train, y_train)"
   ]
  },
  {
   "cell_type": "code",
   "execution_count": 28,
   "id": "515c6ae1",
   "metadata": {},
   "outputs": [
    {
     "name": "stdout",
     "output_type": "stream",
     "text": [
      "Best Hyperparameters: {'max_depth': 15, 'min_samples_split': 10, 'n_estimators': 10}\n"
     ]
    }
   ],
   "source": [
    "# Get the best hyperparameters\n",
    "best_params = grid_search.best_params_\n",
    "print(\"Best Hyperparameters:\", best_params)"
   ]
  },
  {
   "cell_type": "code",
   "execution_count": 29,
   "id": "871bb243",
   "metadata": {},
   "outputs": [
    {
     "name": "stdout",
     "output_type": "stream",
     "text": [
      "Validation Accuracy: 0.9987926715161027\n"
     ]
    }
   ],
   "source": [
    "# Evaluate the model with the best hyperparameters on the validation set\n",
    "best_model = grid_search.best_estimator_\n",
    "y_pred = best_model.predict(X_test)\n",
    "accuracy = accuracy_score(y_test, y_pred)\n",
    "print(\"Validation Accuracy:\", accuracy)"
   ]
  },
  {
   "cell_type": "code",
   "execution_count": 30,
   "id": "860877a1",
   "metadata": {},
   "outputs": [
    {
     "name": "stdout",
     "output_type": "stream",
     "text": [
      "accuracy_score: 0.9987926715161027\n",
      "f1_score: 0.9393648252227942\n"
     ]
    },
    {
     "data": {
      "text/plain": [
       "array([[131781,      7],\n",
       "       [   153,    583]], dtype=int64)"
      ]
     },
     "execution_count": 30,
     "metadata": {},
     "output_type": "execute_result"
    }
   ],
   "source": [
    "print('accuracy_score:',accuracy_score(y_test, y_pred))\n",
    "print('f1_score:',f1_score(y_test,y_pred, average = 'macro'))\n",
    "cm = confusion_matrix(y_test,y_pred)\n",
    "cm"
   ]
  },
  {
   "cell_type": "code",
   "execution_count": 31,
   "id": "9501c400",
   "metadata": {},
   "outputs": [
    {
     "name": "stdout",
     "output_type": "stream",
     "text": [
      "              precision    recall  f1-score   support\n",
      "\n",
      "           0       1.00      1.00      1.00    131788\n",
      "           1       0.99      0.79      0.88       736\n",
      "\n",
      "    accuracy                           1.00    132524\n",
      "   macro avg       0.99      0.90      0.94    132524\n",
      "weighted avg       1.00      1.00      1.00    132524\n",
      "\n"
     ]
    }
   ],
   "source": [
    "print(classification_report(y_test, y_pred))"
   ]
  },
  {
   "cell_type": "code",
   "execution_count": 32,
   "id": "cad4cead",
   "metadata": {},
   "outputs": [
    {
     "data": {
      "image/png": "[encoded data removed]",
      "text/plain": [
       "<Figure size 1000x500 with 1 Axes>"
      ]
     },
     "metadata": {},
     "output_type": "display_data"
    }
   ],
   "source": [
    "sns.set(rc={'figure.figsize':(10,5)})\n",
    "\n",
    "# ROC curve and AUC\n",
    "fpr, tpr, thresholds = roc_curve(y_test, y_pred)\n",
    "roc_auc = auc(fpr, tpr)\n",
    "plt.plot(fpr, tpr, label='ROC curve (area = %0.2f)' % roc_auc)\n",
    "plt.plot([0, 1], [0, 1], 'm-')\n",
    "plt.xlim([-0.1, 1.1])\n",
    "plt.ylim([-0.1, 1.1])\n",
    "plt.xlabel('False Positive Rate')\n",
    "plt.ylabel('True Positive Rate')\n",
    "plt.title('ROC Curve')\n",
    "plt.legend()\n",
    "plt.show()"
   ]
  },
  {
   "cell_type": "code",
   "execution_count": 68,
   "id": "7c6fd172",
   "metadata": {},
   "outputs": [
    {
     "data": {
      "text/plain": [
       "<sklearn.metrics._plot.confusion_matrix.ConfusionMatrixDisplay at 0x1fc07b23a10>"
      ]
     },
     "execution_count": 68,
     "metadata": {},
     "output_type": "execute_result"
    },
    {
     "data": {
      "image/png": "[encoded data removed]",
      "text/plain": [
       "<Figure size 1000x500 with 2 Axes>"
      ]
     },
     "metadata": {},
     "output_type": "display_data"
    }
   ],
   "source": [
    "display = ConfusionMatrixDisplay(confusion_matrix=cm)\n",
    "display.plot()"
   ]
  },
  {
   "cell_type": "markdown",
   "id": "ccda417c",
   "metadata": {},
   "source": [
    "# 1. Data Cleaning including missing values, outliers and multi-collinearity."
   ]
  },
  {
   "cell_type": "markdown",
   "id": "f6ee5124",
   "metadata": {},
   "source": [
    "Data Cleaning is a crucial step in preparing for analysis and modeling. It involves handling missing values and addressing multi-collinearity.\n",
    "   1. Handling Missing Values: Initially, identify the missing values.\n",
    "                               This can be done by either removing rows or columns with a high percentage of missing values or by using techniques like mean, median, mode.\n",
    "   2. Dealing with Outliers: Outliers are extreme values that deviate significantly from the majority of data points. These must be identified and handled.\n",
    "   3. Addressing Multi-Collinearity: Multi-Collinearity refers to high correlation or dependency between predictor variables in a regression or machine learning model.\n",
    "   \n",
    "Hence, data cleaning ensures the quality and reliability of the data used for analysis."
   ]
  },
  {
   "cell_type": "markdown",
   "id": "d4873d34",
   "metadata": {},
   "source": [
    "\n",
    "# 2. Describe fraud detection model in elaboration."
   ]
  },
  {
   "cell_type": "markdown",
   "id": "77b3f07a",
   "metadata": {},
   "source": [
    "A fraud detection model is a computational system designed to identify and prevent fraudulent activities within a given system or environment. It utilizes various techniques and algorithms to analyze patterns, anomalies, and suspicious behavior, aiming to distinguish legitimate transactions or actions from fraudulent ones. The model is typically implemented in industries such as finance, e-commerce, healthcare, and telecommunications, where the detection of fraudulent activities is crucial for maintaining trust and security.\n",
    "\n",
    "Here's an elaboration on the key components and processes involved in a fraud detection model:\n",
    "\n",
    "1.Data Collection:\n",
    "Transaction Data: The model relies on historical and real-time transaction data, including details such as transaction amounts, timestamps, locations, and user identities.\n",
    "User Behavior Data: Information about typical user behavior is crucial for establishing baselines and identifying anomalies. This may include login patterns, spending habits, and interaction history.\n",
    "\n",
    "2.Feature Engineering:\n",
    "Relevant features are extracted from the collected data to provide the model with meaningful input variables. Feature engineering involves selecting, transforming, and combining variables to enhance the model's ability to identify fraud patterns.\n",
    "\n",
    "3.Supervised Learning:\n",
    "Many fraud detection models use supervised learning algorithms to train on labeled datasets. The model learns from examples of both legitimate and fraudulent transactions to identify patterns associated with each class.\n",
    "\n",
    "4.Unsupervised Learning:\n",
    "Unsupervised learning techniques, such as clustering and anomaly detection, can be employed to identify irregularities without labeled training data. These models learn the inherent structure of the data and flag instances that deviate from the norm.\n",
    "\n",
    "5.Machine Learning Algorithms:\n",
    "Various machine learning algorithms can be used, such as logistic regression, decision trees, random forests, support vector machines, and neural networks. Ensemble methods combining multiple"
   ]
  },
  {
   "cell_type": "markdown",
   "id": "b5945a99",
   "metadata": {},
   "source": [
    "# 3. Select variables to be included in the model."
   ]
  },
  {
   "cell_type": "markdown",
   "id": "18d96ef2",
   "metadata": {},
   "source": [
    "Selecting the right variables, also known as feature selection or feature engineering, is crucial in building an effective fraud detection model. The goal is to include relevant information that helps the model distinguish between legitimate and fraudulent transactions. Here are some strategies for selecting variables in a fraud detection model:\n",
    "\n",
    "1.Domain Knowledge:\n",
    "Begin by gaining a deep understanding of the domain and the specific fraud risks associated with it. Consult with subject matter experts to identify potential variables that may be indicative of fraudulent activities.\n",
    "\n",
    "2.Exploratory Data Analysis (EDA):\n",
    "Conduct exploratory data analysis on your dataset to understand the distribution of variables and their relationships. EDA can help you identify patterns, outliers, and potential features that may be relevant for fraud detection.\n",
    "\n",
    "3.Correlation Analysis:\n",
    "Examine the correlation between variables to avoid including highly correlated features, as they may provide redundant information. Reducing multicollinearity can improve the model's interpretability and performance.\n",
    "\n",
    "4.Statistical Significance:\n",
    "Use statistical tests to determine the significance of each variable in relation to fraud. Features that exhibit significant differences between legitimate and fraudulent transactions are likely to be valuable for the model.\n",
    "\n",
    "5.Feature Importance from Models:\n",
    "Train a preliminary model (e.g., a decision tree, random forest, or gradient boosting model) and analyze feature importance scores. Features with higher importance scores contribute more to the model's predictive power and can be prioritized.\n",
    "\n",
    "6.Recursive Feature Elimination (RFE):\n",
    "RFE is a technique where the model is trained, and the least important features are recursively removed until the optimal set of features is identified. This helps in selecting the most relevant variables for fraud detection.\n",
    "\n",
    "7.Information Gain:\n",
    "For categorical variables, information gain or entropy reduction measures the effectiveness of a variable in reducing uncertainty about the target variable. High information gain suggests that the variable is valuable for the model.\n",
    "\n",
    "8.VIF (Variance Inflation Factor):\n",
    "Use VIF to assess the degree of multicollinearity between variables. High VIF values indicate that a variable may be redundant, and it might be beneficial to exclude it from the model.\n",
    "\n",
    "9.Dimensionality Reduction Techniques:\n",
    "Techniques like Principal Component Analysis (PCA) or t-Distributed Stochastic Neighbor Embedding (t-SNE) can be applied to reduce the dimensionality of the dataset while retaining important information. However, interpretability may be sacrificed.\n",
    "\n",
    "10.Business Rules and Logic:\n",
    "Incorporate any known business rules or logic that are indicative of potential fraudulent activities. These rules can serve as additional features in the model.\n",
    "\n",
    "11.Time-Related Features:\n",
    "For time-series data, consider incorporating temporal features such as transaction frequency, time since the last transaction, and patterns over time. Fraudulent activities often exhibit unusual temporal behavior.\n",
    "\n",
    "12.User Behavioral Features:\n",
    "Include features related to user behavior, such as login patterns, transaction history, and deviations from typical behavior. Changes in user behavior may signal potential fraud.\n",
    "\n",
    "13.External Data Sources:\n",
    "Depending on the context, consider incorporating external data sources that may provide additional context or information relevant to fraud detection.\n",
    "\n",
    "Remember that the selection of variables is an iterative process. It's essential to evaluate the model's performance with different combinations of features and refine the set based on the model's ability to discriminate between legitimate and fraudulent transactions. Regularly revisit and update the feature set as new data becomes available or as fraud patterns evolve."
   ]
  },
  {
   "cell_type": "markdown",
   "id": "815bcca7",
   "metadata": {},
   "source": [
    "# 4.Demonstrate the performance of the model by using best set of tools."
   ]
  },
  {
   "cell_type": "markdown",
   "id": "3f8b58f6",
   "metadata": {},
   "source": [
    "1. Confusion Matrix: \n",
    "   - A confusion matrix provides a tabular summary of the model's predictions compared to the actual labels.\n",
    "   - It helps evaluate the model's performance by calculating metrics such as accuracy, precision, recall, and F1 score.\n",
    "   - The confusion matrix allows us to assess the true positives, true negatives, false positives, and false negatives.\n",
    "\n",
    "2. ROC Curve and AUC-ROC:\n",
    "   - The ROC (Receiver Operating Characteristic) curve is a graphical representation of the model's performance at various classification thresholds.\n",
    "   - It plots the true positive rate (sensitivity) against the false positive rate (1-specificity).\n",
    "   - The Area Under the ROC Curve (AUC-ROC) is a metric that quantifies the overall performance of the model, with a higher AUC indicating better performance.\n",
    "   - AUC-ROC helps assess the model's ability to discriminate between fraudulent and non-fraudulent transactions.\n",
    "\n",
    "3. Precision-Recall Curve:\n",
    "   - The precision-recall curve illustrates the trade-off between precision (positive predictive value) and recall (sensitivity) at different classification thresholds.\n",
    "   - It provides insights into the model's performance in identifying true positives while minimizing false positives.\n",
    "   - The area under the precision-recall curve (AUC-PR) is another metric that measures the overall performance of the model.\n",
    "\n",
    "4. Cross-Validation:\n",
    "   - Cross-validation is a technique to assess the model's performance by splitting the data into multiple subsets.\n",
    "   - It helps estimate the model's performance on unseen data and evaluates its generalizability.\n",
    "   - Techniques like k-fold cross-validation or stratified cross-validation can be used to validate the model's performance across different subsets of the data.\n",
    "\n",
    "5. Model Evaluation Metrics:\n",
    "   - Besides accuracy, precision, recall, F1 score, AUC-ROC, and AUC-PR, other evaluation metrics like specificity, false positive rate, or negative predictive value can provide a comprehensive understanding of the model's performance.\n",
    "   - It is important to consider these metrics in the context of the specific requirements and goals of the fraud detection task.\n",
    "\n",
    "6. Visualizations:\n",
    "   - Visualizations can be powerful tools to showcase the model's performance and interpretability.\n",
    "   - Plots such as bar charts, histograms, or line graphs can illustrate the distribution of predicted probabilities, feature importance rankings, or comparison of performance across different models or techniques.\n",
    "\n",
    "The choice of tools depends on the specific requirements, dataset, and the preferences of the stakeholders. It is recommended to use a combination of these tools to provide a comprehensive evaluation of the model's performance, showcasing its strengths and limitations in detecting fraudulent transactions."
   ]
  },
  {
   "cell_type": "markdown",
   "id": "a0f44881",
   "metadata": {},
   "source": [
    "# 5.Key Factor that predict fradulent customer"
   ]
  },
  {
   "cell_type": "markdown",
   "id": "4c522a83",
   "metadata": {},
   "source": [
    "1. Transaction Amount:\n",
    "   - Fraudulent transactions may involve unusually large or small amounts of money compared to legitimate transactions.\n",
    "   - High-value transactions may indicate attempts to transfer funds to another account before cashing out.\n",
    "   - Low-value transactions may be used to test stolen credit cards or validate account details.\n",
    "\n",
    "2. Transaction Frequency and Velocity:\n",
    "   - Fraudsters often perform a high volume of transactions within a short period to exploit vulnerabilities or evade detection.\n",
    "   - Unusual transaction frequency, rapid succession of transactions, or sudden spikes in activity can be indicators of fraudulent behavior.\n",
    "\n",
    "3. Customer Behavior Deviation:\n",
    "   - Fraudulent customers may exhibit deviations from their typical transaction behavior.\n",
    "   - Changes in transaction patterns, such as different transaction types, unusual timing, or unfamiliar beneficiary accounts, can signal fraudulent activity.\n",
    "\n",
    "4. Device and Browser Information:\n",
    "   - Fraudsters may use multiple devices or browsers to carry out fraudulent transactions.\n",
    "   - Inconsistent device information, multiple account logins from different devices, or the use of virtual machines can be red flags.\n",
    "\n",
    "5. Machine Learning Models:\n",
    "   - Utilizing machine learning models can automatically identify and weigh the importance of various features in predicting fraudulent customers.\n",
    "   - Advanced techniques like anomaly detection, clustering, or ensemble models can capture complex patterns and identify key predictive factors.\n",
    "\n",
    "It's important to note that the key factors for predicting fraudulent customers can evolve over time as fraudsters adapt their strategies. Therefore, a proactive approach that combines domain knowledge, data exploration, and advanced analytical techniques is crucial for staying ahead of emerging fraud trends and continuously improving the fraud detection models."
   ]
  },
  {
   "cell_type": "markdown",
   "id": "8d954d5c",
   "metadata": {},
   "source": [
    "# 6.Factors that make sense"
   ]
  },
  {
   "cell_type": "markdown",
   "id": "2dae4905",
   "metadata": {},
   "source": [
    "The factors mentioned for predicting fraudulent customers generally make sense in the context of fraud detection. Here's an explanation of why these factors are relevant:\n",
    "\n",
    "1. Transaction Amount: Unusual transaction amounts can indicate fraudulent behavior as fraudsters often try to exploit the system by transferring large sums or making small test transactions.\n",
    "\n",
    "2. Transaction Frequency and Velocity: Fraudsters may perform a high volume of transactions within a short time frame to quickly exploit vulnerabilities or evade detection. Unusual transaction frequency or rapid succession of transactions can be a red flag.\n",
    "\n",
    "3. Customer Behavior Deviation: Fraudulent customers often deviate from their normal transaction patterns. Changes in transaction types, timing, or beneficiary accounts can be indicators of fraudulent activity.\n",
    "\n",
    "4. IP Address and Geolocation: Analyzing the IP address and geolocation associated with transactions helps identify potential fraud. Transactions from high-risk regions or known fraudulent IP addresses raise suspicion.\n",
    "\n",
    "5. Device and Browser Information: Inconsistent device information, multiple logins from different devices, or the use of virtual machines can be signs of fraudulent activity.\n",
    "\n",
    "6. Account Age and History: Newly created accounts or accounts with limited transaction history may be more susceptible to fraud. Analyzing account age and historical transaction patterns helps identify suspicious behavior.\n",
    "\n",
    "7. Social Network Analysis: Fraudsters often operate in networks or collaborate with others. Analyzing relationships between accounts can uncover patterns of fraudulent behavior.\n",
    "\n",
    "8. Machine Learning Models: Machine learning models can automatically identify and weigh the importance of different features in predicting fraud. They can capture complex patterns and adapt to evolving fraud trends.\n",
    "\n",
    "While these factors make sense in general, it's important to note that fraudsters constantly adapt their strategies to evade detection. Therefore, it's crucial to continuously update and refine the fraud detection models and incorporate new features or techniques as fraud patterns evolve. Additionally, it's important to consider that each dataset and business context may have unique factors that are specific to their industry or customer behavior, which should also be taken into account when building a fraud detection model."
   ]
  },
  {
   "cell_type": "markdown",
   "id": "11c12718",
   "metadata": {},
   "source": [
    "# 7. Kind of prevention should be adopted while company update its infrastructure"
   ]
  },
  {
   "cell_type": "markdown",
   "id": "2bb8e3e1",
   "metadata": {},
   "source": [
    "1. Robust Authentication and Authorization:\n",
    "   - Implement multi-factor authentication (MFA) to ensure stronger user authentication.\n",
    "   - Utilize biometric authentication methods, such as fingerprint or facial recognition, for added security.\n",
    "   - Enhance authorization mechanisms to restrict access privileges and enforce strict user permissions.\n",
    "\n",
    "2. Real-time Monitoring and Alerting:\n",
    "   - Deploy advanced monitoring systems to detect suspicious activities and anomalies in real-time.\n",
    "   - Set up alerts and notifications for potential fraudulent transactions or unauthorized access attempts.\n",
    "   - Implement intelligent systems that can detect patterns indicative of fraudulent behavior, such as unexpected changes in transaction patterns or deviations from normal user behavior.\n",
    "\n",
    "3. Machine Learning and AI-Based Fraud Detection:\n",
    "   - Utilize machine learning and AI algorithms to develop predictive models that can identify and flag potentially fraudulent transactions.\n",
    "   - Train the models using historical fraud data and continuously update them with new fraud patterns and trends.\n",
    "   - Implement anomaly detection techniques to identify unusual or abnormal behavior in real-time.\n",
    "\n",
    "4. Data Encryption and Secure Storage:\n",
    "   - Encrypt sensitive customer data both during transmission and at rest to prevent unauthorized access.\n",
    "   - Implement secure storage mechanisms, such as encrypted databases or secure cloud storage, to protect customer information.\n",
    "   - Regularly update encryption protocols and algorithms to stay ahead of potential security vulnerabilities.\n",
    "\n",
    "5. Employee Training and Awareness:\n",
    "   - Conduct regular training sessions to educate employees about fraud prevention techniques and best practices.\n",
    "   - Promote a culture of security awareness and vigilance among employees, encouraging them to report any suspicious activities or potential security threats.\n",
    "   - Establish clear guidelines and protocols for handling sensitive customer information and emphasize the importance of data protection.\n",
    "\n",
    "6. Collaboration and Information Sharing:\n",
    "   - Foster collaborations with industry partners, regulatory bodies, and law enforcement agencies to share information and stay updated on the latest fraud trends and prevention strategies.\n",
    "   - Participate in industry-wide initiatives or consortiums that focus on sharing fraud intelligence and best practices.\n",
    "\n",
    "7. Regular Security Audits and Penetration Testing:\n",
    "   - Conduct periodic security audits and vulnerability assessments to identify potential weaknesses in the infrastructure.\n",
    "   - Perform penetration testing to simulate real-world attacks and identify any vulnerabilities that could be exploited by fraudsters.\n",
    "   - Regularly update and patch systems to address any identified vulnerabilities.\n",
    "\n",
    "By adopting these preventive measures, the financial company can strengthen its infrastructure and significantly reduce the risk of fraudulent activities. However, it's important to note that fraud prevention is an ongoing process, and the company should continuously monitor and adapt its strategies to stay ahead of evolving fraud tactics."
   ]
  },
  {
   "cell_type": "markdown",
   "id": "12b0fa0d",
   "metadata": {},
   "source": [
    "# 8. These actions have been implemented"
   ]
  },
  {
   "cell_type": "markdown",
   "id": "fee11418",
   "metadata": {},
   "source": [
    "To determine if the implemented actions for fraud prevention are effective, you can employ the following evaluation methods:\n",
    "\n",
    "1. Performance Metrics: Monitor and analyze key performance metrics related to fraud detection and prevention. These metrics may include:\n",
    "   - False Positive Rate: Measure the rate at which legitimate transactions are incorrectly flagged as fraudulent.\n",
    "   - False Negative Rate: Measure the rate at which fraudulent transactions go undetected.\n",
    "   - Precision: Calculate the proportion of correctly identified fraudulent transactions out of all transactions flagged as fraudulent.\n",
    "   - Recall or True Positive Rate: Measure the proportion of actual fraudulent transactions correctly identified by the system.\n",
    "   - F1 Score: Consider the balance between precision and recall, providing a single metric to evaluate the model's performance.\n",
    "   - AUC-ROC: Evaluate the model's ability to distinguish between fraudulent and non-fraudulent transactions across various thresholds.\n",
    "\n",
    "2. Comparative Analysis: Compare the performance of the fraud prevention measures before and after their implementation. This can be done by evaluating historical data or conducting controlled experiments. Assess whether there is a noticeable improvement in fraud detection rates, reduction in false positives, or increased accuracy compared to previous periods or baseline models.\n",
    "\n",
    "3. Case Studies and Investigations: Examine specific cases of detected fraudulent transactions and investigate whether the implemented measures successfully identified and prevented them. Analyze the details of the flagged transactions, including the factors that triggered the detection, the actions taken, and the outcomes. This qualitative analysis can provide insights into the effectiveness of the prevention measures.\n",
    "\n",
    "4. Feedback and Reporting: Establish a feedback mechanism where users, customers, or employees can report suspicious activities or provide feedback on the system's performance. Regularly review and analyze this feedback to identify any potential gaps or areas for improvement.\n",
    "\n",
    "6. Continuous Monitoring and Adaptation: Implement a continuous monitoring system to track the performance of the fraud prevention measures over time. Regularly review and update the prevention strategies based on emerging fraud patterns, industry trends, and feedback from stakeholders."
   ]
  },
  {
   "cell_type": "code",
   "execution_count": null,
   "id": "250a8a65",
   "metadata": {},
   "outputs": [],
   "source": []
  }
 ],
 "metadata": {
  "kernelspec": {
   "display_name": "Python 3 (ipykernel)",
   "language": "python",
   "name": "python3"
  },
  "language_info": {
   "codemirror_mode": {
    "name": "ipython",
    "version": 3
   },
   "file_extension": ".py",
   "mimetype": "text/x-python",
   "name": "python",
   "nbconvert_exporter": "python",
   "pygments_lexer": "ipython3",
   "version": "3.11.5"
  }
 },
 "nbformat": 4,
 "nbformat_minor": 5
}
